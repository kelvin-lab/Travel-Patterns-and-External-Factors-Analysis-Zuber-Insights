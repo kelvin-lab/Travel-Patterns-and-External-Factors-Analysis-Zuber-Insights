{
 "cells": [
  {
   "cell_type": "markdown",
   "metadata": {},
   "source": [
    "<h1 align=\"center\"> Zuber Insights: Travel Patterns and External Factors Analysis</h1>\n",
    "\n",
    "## Descripción del Proyecto\n",
    "\n",
    "Zuber es una nueva empresa de viajes compartidos que se está lanzando en Chicago. El objetivo del proyecto es identificar patrones en la información disponible para comprender las preferencias de los pasajeros y el impacto de factores externos en los viajes.\n",
    "\n",
    "Al trabajar con una base de datos, se analizarán los datos de los competidores y se pondrá a prueba una hipótesis sobre el impacto del clima en la frecuencia de los viajes.\n",
    "\n",
    "## Etapas\n",
    "\n",
    "**Paso 1: Análisis Exploratorio de Datos**\n",
    "\n",
    "Los conjuntos de datos se encuentran en los siguientes directorios:\n",
    "- `./datasets/taxi_rides.csv`, que contiene:\n",
    "    - `company_name`: Nombre de la empresa de taxis.\n",
    "    - `trips_amount`: Número de viajes realizados por cada empresa de taxis el 15 y 16 de noviembre de 2017.\n",
    "\n",
    "- `./datasets/completed_trips.csv`, que contiene:\n",
    "    - `dropoff_location_name`: Barrios de Chicago donde finalizaron los viajes.\n",
    "    - `average_trips`: Promedio de viajes que terminaron en cada barrio en noviembre de 2017.\n",
    "\n",
    "*Tareas a realizar:*\n",
    "- Importar los archivos.\n",
    "- Analizar los datos contenidos en los archivos.\n",
    "- Verificar que los tipos de datos sean correctos.\n",
    "- Identificar los 10 principales barrios en términos de finalización de viajes.\n",
    "- Realizar gráficos sobre el número de viajes por empresa de taxis y los 10 principales barrios por número de finalizaciones.\n",
    "- Extraer conclusiones basadas en cada gráfico y explicar los resultados.\n",
    "\n",
    "**Paso 2: Prueba de Hipótesis**\n",
    "\n",
    "El conjunto de datos se encuentra en el siguiente directorio:\n",
    "\n",
    "- `./datasets/loop_trips_to_airport.csv`, que contiene datos sobre viajes desde el Loop hasta el Aeropuerto Internacional O'Hare. Los datos incluyen:\n",
    "    - `start_ts`: Fecha y hora de recogida.\n",
    "    - `weather_conditions`: Condiciones climáticas al inicio del viaje.\n",
    "    - `duration_seconds`: Duración del viaje en segundos.\n",
    "\n",
    "*Prueba de hipótesis:*\n",
    "- Evaluar si la duración promedio de los viajes desde el Loop hasta el Aeropuerto Internacional O'Hare varía los sábados lluviosos.\n"
   ]
  },
  {
   "cell_type": "markdown",
   "metadata": {},
   "source": [
    "# Contenido <a id='back'></a>\n",
    "\n",
    "* [Análisis exploratorio de datos](#data_review)\n",
    "    * [Identificar los 10 principales barrios en términos de finalización](#top_neighborhoods)\n",
    "    * [Gráfica de los 10 barrios principales por número de finalizaciones](#img_top_neighborhoods)\n",
    "    * [Gráfica de las empresas de taxis y número de viajes](#top_taxis)\n",
    "* [Prueba de Hipótesis](#hypothesis)\n",
    "* [Conclusión](#end)"
   ]
  },
  {
   "cell_type": "markdown",
   "metadata": {},
   "source": [
    "<h2 align=\"center\">Análisis exploratorio de datos</h2> <a id=\"data_review\"></a>"
   ]
  },
  {
   "cell_type": "code",
   "execution_count": 1,
   "metadata": {},
   "outputs": [],
   "source": [
    "import pandas as pd\n",
    "import seaborn as sns\n",
    "from matplotlib import pyplot as plt\n",
    "from scipy import stats as st"
   ]
  },
  {
   "cell_type": "code",
   "execution_count": 2,
   "metadata": {},
   "outputs": [],
   "source": [
    "# Acceso a los registros de los recursos \"taxi rides\" y \"completed trips\"\n",
    "\n",
    "df_taxi_rides = pd.read_csv('./datasets/taxi_rides.csv')\n",
    "\n",
    "df_completed_trips = pd.read_csv('./datasets/completed_trips.csv')"
   ]
  },
  {
   "cell_type": "code",
   "execution_count": 3,
   "metadata": {},
   "outputs": [
    {
     "name": "stdout",
     "output_type": "stream",
     "text": [
      "\u001b[1m Muestra aleatoria de filas del DataFrame 'taxi rides':\n"
     ]
    },
    {
     "data": {
      "text/html": [
       "<div>\n",
       "<style scoped>\n",
       "    .dataframe tbody tr th:only-of-type {\n",
       "        vertical-align: middle;\n",
       "    }\n",
       "\n",
       "    .dataframe tbody tr th {\n",
       "        vertical-align: top;\n",
       "    }\n",
       "\n",
       "    .dataframe thead th {\n",
       "        text-align: right;\n",
       "    }\n",
       "</style>\n",
       "<table border=\"1\" class=\"dataframe\">\n",
       "  <thead>\n",
       "    <tr style=\"text-align: right;\">\n",
       "      <th></th>\n",
       "      <th>company_name</th>\n",
       "      <th>trips_amount</th>\n",
       "    </tr>\n",
       "  </thead>\n",
       "  <tbody>\n",
       "    <tr>\n",
       "      <th>43</th>\n",
       "      <td>2809 - 95474 C &amp; D Cab Co Inc.</td>\n",
       "      <td>29</td>\n",
       "    </tr>\n",
       "    <tr>\n",
       "      <th>32</th>\n",
       "      <td>Leonard Cab Co</td>\n",
       "      <td>147</td>\n",
       "    </tr>\n",
       "    <tr>\n",
       "      <th>39</th>\n",
       "      <td>0118 - 42111 Godfrey S.Awir</td>\n",
       "      <td>33</td>\n",
       "    </tr>\n",
       "    <tr>\n",
       "      <th>49</th>\n",
       "      <td>5074 - 54002 Ahzmi Inc</td>\n",
       "      <td>16</td>\n",
       "    </tr>\n",
       "    <tr>\n",
       "      <th>3</th>\n",
       "      <td>Yellow Cab</td>\n",
       "      <td>9888</td>\n",
       "    </tr>\n",
       "    <tr>\n",
       "      <th>54</th>\n",
       "      <td>2192 - 73487 Zeymane Corp</td>\n",
       "      <td>14</td>\n",
       "    </tr>\n",
       "    <tr>\n",
       "      <th>21</th>\n",
       "      <td>American United</td>\n",
       "      <td>1404</td>\n",
       "    </tr>\n",
       "    <tr>\n",
       "      <th>1</th>\n",
       "      <td>Taxi Affiliation Services</td>\n",
       "      <td>11422</td>\n",
       "    </tr>\n",
       "    <tr>\n",
       "      <th>51</th>\n",
       "      <td>4623 - 27290 Jay Kim</td>\n",
       "      <td>15</td>\n",
       "    </tr>\n",
       "    <tr>\n",
       "      <th>20</th>\n",
       "      <td>Checker Taxi</td>\n",
       "      <td>1486</td>\n",
       "    </tr>\n",
       "    <tr>\n",
       "      <th>8</th>\n",
       "      <td>Star North Management LLC</td>\n",
       "      <td>7455</td>\n",
       "    </tr>\n",
       "    <tr>\n",
       "      <th>11</th>\n",
       "      <td>Globe Taxi</td>\n",
       "      <td>4383</td>\n",
       "    </tr>\n",
       "    <tr>\n",
       "      <th>6</th>\n",
       "      <td>City Service</td>\n",
       "      <td>8448</td>\n",
       "    </tr>\n",
       "    <tr>\n",
       "      <th>5</th>\n",
       "      <td>Chicago Carriage Cab Corp</td>\n",
       "      <td>9181</td>\n",
       "    </tr>\n",
       "    <tr>\n",
       "      <th>29</th>\n",
       "      <td>303 Taxi</td>\n",
       "      <td>250</td>\n",
       "    </tr>\n",
       "  </tbody>\n",
       "</table>\n",
       "</div>"
      ],
      "text/plain": [
       "                      company_name  trips_amount\n",
       "43  2809 - 95474 C & D Cab Co Inc.            29\n",
       "32                  Leonard Cab Co           147\n",
       "39     0118 - 42111 Godfrey S.Awir            33\n",
       "49          5074 - 54002 Ahzmi Inc            16\n",
       "3                       Yellow Cab          9888\n",
       "54       2192 - 73487 Zeymane Corp            14\n",
       "21                 American United          1404\n",
       "1        Taxi Affiliation Services         11422\n",
       "51            4623 - 27290 Jay Kim            15\n",
       "20                    Checker Taxi          1486\n",
       "8        Star North Management LLC          7455\n",
       "11                      Globe Taxi          4383\n",
       "6                     City Service          8448\n",
       "5        Chicago Carriage Cab Corp          9181\n",
       "29                        303 Taxi           250"
      ]
     },
     "metadata": {},
     "output_type": "display_data"
    },
    {
     "name": "stdout",
     "output_type": "stream",
     "text": [
      "\u001b[1m Resumen del DataFrame 'taxi rides':\u001b[0m \n",
      "\n",
      "<class 'pandas.core.frame.DataFrame'>\n",
      "RangeIndex: 64 entries, 0 to 63\n",
      "Data columns (total 2 columns):\n",
      " #   Column        Non-Null Count  Dtype \n",
      "---  ------        --------------  ----- \n",
      " 0   company_name  64 non-null     object\n",
      " 1   trips_amount  64 non-null     int64 \n",
      "dtypes: int64(1), object(1)\n",
      "memory usage: 1.1+ KB\n"
     ]
    }
   ],
   "source": [
    "# Obtener información general sobre los registros del DataFrame 'taxi rides'\n",
    "\n",
    "print(\"\\033[1m Muestra aleatoria de filas del DataFrame 'taxi rides':\")\n",
    "\n",
    "display(df_taxi_rides.sample(15, random_state=1425))\n",
    "\n",
    "print(\"\\033[1m Resumen del DataFrame 'taxi rides':\\033[0m \\n\")\n",
    "\n",
    "df_taxi_rides.info()"
   ]
  },
  {
   "cell_type": "code",
   "execution_count": 4,
   "metadata": {},
   "outputs": [
    {
     "name": "stdout",
     "output_type": "stream",
     "text": [
      "\u001b[1m Muestra aleatoria de filas del DataFrame 'completed trips':\n"
     ]
    },
    {
     "data": {
      "text/html": [
       "<div>\n",
       "<style scoped>\n",
       "    .dataframe tbody tr th:only-of-type {\n",
       "        vertical-align: middle;\n",
       "    }\n",
       "\n",
       "    .dataframe tbody tr th {\n",
       "        vertical-align: top;\n",
       "    }\n",
       "\n",
       "    .dataframe thead th {\n",
       "        text-align: right;\n",
       "    }\n",
       "</style>\n",
       "<table border=\"1\" class=\"dataframe\">\n",
       "  <thead>\n",
       "    <tr style=\"text-align: right;\">\n",
       "      <th></th>\n",
       "      <th>dropoff_location_name</th>\n",
       "      <th>average_trips</th>\n",
       "    </tr>\n",
       "  </thead>\n",
       "  <tbody>\n",
       "    <tr>\n",
       "      <th>34</th>\n",
       "      <td>Humboldt Park</td>\n",
       "      <td>97.866667</td>\n",
       "    </tr>\n",
       "    <tr>\n",
       "      <th>28</th>\n",
       "      <td>Wicker Park</td>\n",
       "      <td>182.600000</td>\n",
       "    </tr>\n",
       "    <tr>\n",
       "      <th>40</th>\n",
       "      <td>Bucktown</td>\n",
       "      <td>74.300000</td>\n",
       "    </tr>\n",
       "    <tr>\n",
       "      <th>8</th>\n",
       "      <td>Gold Coast</td>\n",
       "      <td>1364.233333</td>\n",
       "    </tr>\n",
       "    <tr>\n",
       "      <th>71</th>\n",
       "      <td>Edison Park</td>\n",
       "      <td>14.166667</td>\n",
       "    </tr>\n",
       "    <tr>\n",
       "      <th>11</th>\n",
       "      <td>East Village</td>\n",
       "      <td>1212.066667</td>\n",
       "    </tr>\n",
       "    <tr>\n",
       "      <th>7</th>\n",
       "      <td>Museum Campus</td>\n",
       "      <td>1510.000000</td>\n",
       "    </tr>\n",
       "    <tr>\n",
       "      <th>43</th>\n",
       "      <td>Mckinley Park</td>\n",
       "      <td>64.033333</td>\n",
       "    </tr>\n",
       "    <tr>\n",
       "      <th>86</th>\n",
       "      <td>West Elsdon</td>\n",
       "      <td>5.666667</td>\n",
       "    </tr>\n",
       "    <tr>\n",
       "      <th>35</th>\n",
       "      <td>Norwood Park</td>\n",
       "      <td>95.233333</td>\n",
       "    </tr>\n",
       "    <tr>\n",
       "      <th>83</th>\n",
       "      <td>Avalon Park</td>\n",
       "      <td>6.966667</td>\n",
       "    </tr>\n",
       "    <tr>\n",
       "      <th>50</th>\n",
       "      <td>South Shore</td>\n",
       "      <td>40.533333</td>\n",
       "    </tr>\n",
       "    <tr>\n",
       "      <th>72</th>\n",
       "      <td>South Chicago</td>\n",
       "      <td>13.000000</td>\n",
       "    </tr>\n",
       "    <tr>\n",
       "      <th>46</th>\n",
       "      <td>Chinatown</td>\n",
       "      <td>52.433333</td>\n",
       "    </tr>\n",
       "    <tr>\n",
       "      <th>20</th>\n",
       "      <td>Rush &amp; Division</td>\n",
       "      <td>395.533333</td>\n",
       "    </tr>\n",
       "  </tbody>\n",
       "</table>\n",
       "</div>"
      ],
      "text/plain": [
       "   dropoff_location_name  average_trips\n",
       "34         Humboldt Park      97.866667\n",
       "28           Wicker Park     182.600000\n",
       "40              Bucktown      74.300000\n",
       "8             Gold Coast    1364.233333\n",
       "71           Edison Park      14.166667\n",
       "11          East Village    1212.066667\n",
       "7          Museum Campus    1510.000000\n",
       "43         Mckinley Park      64.033333\n",
       "86           West Elsdon       5.666667\n",
       "35          Norwood Park      95.233333\n",
       "83           Avalon Park       6.966667\n",
       "50           South Shore      40.533333\n",
       "72         South Chicago      13.000000\n",
       "46             Chinatown      52.433333\n",
       "20       Rush & Division     395.533333"
      ]
     },
     "metadata": {},
     "output_type": "display_data"
    },
    {
     "name": "stdout",
     "output_type": "stream",
     "text": [
      "\u001b[1m Resumen del DataFrame 'completed trips':\u001b[0m \n",
      "\n",
      "<class 'pandas.core.frame.DataFrame'>\n",
      "RangeIndex: 94 entries, 0 to 93\n",
      "Data columns (total 2 columns):\n",
      " #   Column                 Non-Null Count  Dtype  \n",
      "---  ------                 --------------  -----  \n",
      " 0   dropoff_location_name  94 non-null     object \n",
      " 1   average_trips          94 non-null     float64\n",
      "dtypes: float64(1), object(1)\n",
      "memory usage: 1.6+ KB\n"
     ]
    }
   ],
   "source": [
    "# Obtener información general sobre los registros del DataFrame 'completed trips'\n",
    "\n",
    "print(\"\\033[1m Muestra aleatoria de filas del DataFrame 'completed trips':\")\n",
    "\n",
    "display(df_completed_trips.sample(15, random_state=1425))\n",
    "\n",
    "print(\"\\033[1m Resumen del DataFrame 'completed trips':\\033[0m \\n\")\n",
    "\n",
    "df_completed_trips.info()"
   ]
  },
  {
   "cell_type": "code",
   "execution_count": 5,
   "metadata": {},
   "outputs": [
    {
     "name": "stdout",
     "output_type": "stream",
     "text": [
      "Registros duplicados en df_taxi_rides:  0\n",
      "Registros duplicados en df_completed_trips:  0\n"
     ]
    }
   ],
   "source": [
    "print(\"Registros duplicados en df_taxi_rides: \",  df_taxi_rides.duplicated().sum())\n",
    "print(\"Registros duplicados en df_completed_trips: \",  df_completed_trips.duplicated().sum())"
   ]
  },
  {
   "cell_type": "code",
   "execution_count": 6,
   "metadata": {},
   "outputs": [
    {
     "data": {
      "text/html": [
       "<div>\n",
       "<style scoped>\n",
       "    .dataframe tbody tr th:only-of-type {\n",
       "        vertical-align: middle;\n",
       "    }\n",
       "\n",
       "    .dataframe tbody tr th {\n",
       "        vertical-align: top;\n",
       "    }\n",
       "\n",
       "    .dataframe thead th {\n",
       "        text-align: right;\n",
       "    }\n",
       "</style>\n",
       "<table border=\"1\" class=\"dataframe\">\n",
       "  <thead>\n",
       "    <tr style=\"text-align: right;\">\n",
       "      <th></th>\n",
       "      <th>trips_amount</th>\n",
       "    </tr>\n",
       "  </thead>\n",
       "  <tbody>\n",
       "    <tr>\n",
       "      <th>count</th>\n",
       "      <td>64.000000</td>\n",
       "    </tr>\n",
       "    <tr>\n",
       "      <th>mean</th>\n",
       "      <td>2145.484375</td>\n",
       "    </tr>\n",
       "    <tr>\n",
       "      <th>std</th>\n",
       "      <td>3812.310186</td>\n",
       "    </tr>\n",
       "    <tr>\n",
       "      <th>min</th>\n",
       "      <td>2.000000</td>\n",
       "    </tr>\n",
       "    <tr>\n",
       "      <th>25%</th>\n",
       "      <td>20.750000</td>\n",
       "    </tr>\n",
       "    <tr>\n",
       "      <th>50%</th>\n",
       "      <td>178.500000</td>\n",
       "    </tr>\n",
       "    <tr>\n",
       "      <th>75%</th>\n",
       "      <td>2106.500000</td>\n",
       "    </tr>\n",
       "    <tr>\n",
       "      <th>max</th>\n",
       "      <td>19558.000000</td>\n",
       "    </tr>\n",
       "  </tbody>\n",
       "</table>\n",
       "</div>"
      ],
      "text/plain": [
       "       trips_amount\n",
       "count     64.000000\n",
       "mean    2145.484375\n",
       "std     3812.310186\n",
       "min        2.000000\n",
       "25%       20.750000\n",
       "50%      178.500000\n",
       "75%     2106.500000\n",
       "max    19558.000000"
      ]
     },
     "execution_count": 6,
     "metadata": {},
     "output_type": "execute_result"
    }
   ],
   "source": [
    "# Estadísticas descriptivas del df_taxi_rides\n",
    "df_taxi_rides.describe()"
   ]
  },
  {
   "cell_type": "code",
   "execution_count": 7,
   "metadata": {},
   "outputs": [
    {
     "data": {
      "text/html": [
       "<div>\n",
       "<style scoped>\n",
       "    .dataframe tbody tr th:only-of-type {\n",
       "        vertical-align: middle;\n",
       "    }\n",
       "\n",
       "    .dataframe tbody tr th {\n",
       "        vertical-align: top;\n",
       "    }\n",
       "\n",
       "    .dataframe thead th {\n",
       "        text-align: right;\n",
       "    }\n",
       "</style>\n",
       "<table border=\"1\" class=\"dataframe\">\n",
       "  <thead>\n",
       "    <tr style=\"text-align: right;\">\n",
       "      <th></th>\n",
       "      <th>average_trips</th>\n",
       "    </tr>\n",
       "  </thead>\n",
       "  <tbody>\n",
       "    <tr>\n",
       "      <th>count</th>\n",
       "      <td>94.000000</td>\n",
       "    </tr>\n",
       "    <tr>\n",
       "      <th>mean</th>\n",
       "      <td>599.953728</td>\n",
       "    </tr>\n",
       "    <tr>\n",
       "      <th>std</th>\n",
       "      <td>1714.591098</td>\n",
       "    </tr>\n",
       "    <tr>\n",
       "      <th>min</th>\n",
       "      <td>1.800000</td>\n",
       "    </tr>\n",
       "    <tr>\n",
       "      <th>25%</th>\n",
       "      <td>14.266667</td>\n",
       "    </tr>\n",
       "    <tr>\n",
       "      <th>50%</th>\n",
       "      <td>52.016667</td>\n",
       "    </tr>\n",
       "    <tr>\n",
       "      <th>75%</th>\n",
       "      <td>298.858333</td>\n",
       "    </tr>\n",
       "    <tr>\n",
       "      <th>max</th>\n",
       "      <td>10727.466667</td>\n",
       "    </tr>\n",
       "  </tbody>\n",
       "</table>\n",
       "</div>"
      ],
      "text/plain": [
       "       average_trips\n",
       "count      94.000000\n",
       "mean      599.953728\n",
       "std      1714.591098\n",
       "min         1.800000\n",
       "25%        14.266667\n",
       "50%        52.016667\n",
       "75%       298.858333\n",
       "max     10727.466667"
      ]
     },
     "execution_count": 7,
     "metadata": {},
     "output_type": "execute_result"
    }
   ],
   "source": [
    "# Estadísticas descriptivas del df_completed_trips\n",
    "df_completed_trips.describe()"
   ]
  },
  {
   "cell_type": "markdown",
   "metadata": {},
   "source": [
    "**Análisis inicial del df_taxi_rides**\n",
    "\n",
    "Las estadísticas descriptivas para la columna 'trips_amount' muestran que hay un total de 64 registros en el conjunto de datos. La cantidad promedio de viajes realizados por cada compañía de taxis es de aproximadamente 2145.48, con una desviación estándar de alrededor de 3812.31, lo que indica una variabilidad considerable en los datos. La mediana, es de 178.5, lo que significa que al menos la mitad de las compañías tienen una cantidad de viajes igual o menor a este valor. No se detectaron errores en sus tipos de datos, registros duplicados ni valores ausentes.\n",
    "\n",
    "**Análisis inicial del df_completed_trips**\n",
    "\n",
    "Las estadísticas descriptivas para la columna 'average_trips' muestran que hay un total de 94 registros en el conjunto de datos. La cantidad promedio de viajes terminados en cada barrio es de aproximadamente 599.95, con una desviación estándar de alrededor de 1714.59, lo que indica una variabilidad considerable en los datos. El percentil 50 (mediana) muestra que aproximadamente el 50% de los barrios tienen una cantidad de viajes promedio de alrededor de 52.02 o menos, mientras que el percentil 75 indica que el 75% de los barrios tienen una cantidad de viajes promedio de 298.86 o menos. No se detectaronerrores en sus tipos de datos, registros duplicados ni valores ausentes."
   ]
  },
  {
   "cell_type": "markdown",
   "metadata": {},
   "source": [
    "[Volver a Contenidos](#back)"
   ]
  },
  {
   "cell_type": "markdown",
   "metadata": {},
   "source": [
    "**Identificar los 10 principales barrios en términos de finalización** <a id=\"top_neighborhoods\"></a>"
   ]
  },
  {
   "cell_type": "code",
   "execution_count": 8,
   "metadata": {},
   "outputs": [
    {
     "data": {
      "text/html": [
       "<div>\n",
       "<style scoped>\n",
       "    .dataframe tbody tr th:only-of-type {\n",
       "        vertical-align: middle;\n",
       "    }\n",
       "\n",
       "    .dataframe tbody tr th {\n",
       "        vertical-align: top;\n",
       "    }\n",
       "\n",
       "    .dataframe thead th {\n",
       "        text-align: right;\n",
       "    }\n",
       "</style>\n",
       "<table border=\"1\" class=\"dataframe\">\n",
       "  <thead>\n",
       "    <tr style=\"text-align: right;\">\n",
       "      <th></th>\n",
       "      <th>dropoff_location_name</th>\n",
       "      <th>average_trips</th>\n",
       "    </tr>\n",
       "  </thead>\n",
       "  <tbody>\n",
       "    <tr>\n",
       "      <th>0</th>\n",
       "      <td>Loop</td>\n",
       "      <td>10727.466667</td>\n",
       "    </tr>\n",
       "    <tr>\n",
       "      <th>1</th>\n",
       "      <td>River North</td>\n",
       "      <td>9523.666667</td>\n",
       "    </tr>\n",
       "    <tr>\n",
       "      <th>2</th>\n",
       "      <td>Streeterville</td>\n",
       "      <td>6664.666667</td>\n",
       "    </tr>\n",
       "    <tr>\n",
       "      <th>3</th>\n",
       "      <td>West Loop</td>\n",
       "      <td>5163.666667</td>\n",
       "    </tr>\n",
       "    <tr>\n",
       "      <th>4</th>\n",
       "      <td>O'Hare</td>\n",
       "      <td>2546.900000</td>\n",
       "    </tr>\n",
       "    <tr>\n",
       "      <th>5</th>\n",
       "      <td>Lake View</td>\n",
       "      <td>2420.966667</td>\n",
       "    </tr>\n",
       "    <tr>\n",
       "      <th>6</th>\n",
       "      <td>Grant Park</td>\n",
       "      <td>2068.533333</td>\n",
       "    </tr>\n",
       "    <tr>\n",
       "      <th>7</th>\n",
       "      <td>Museum Campus</td>\n",
       "      <td>1510.000000</td>\n",
       "    </tr>\n",
       "    <tr>\n",
       "      <th>8</th>\n",
       "      <td>Gold Coast</td>\n",
       "      <td>1364.233333</td>\n",
       "    </tr>\n",
       "    <tr>\n",
       "      <th>9</th>\n",
       "      <td>Sheffield &amp; DePaul</td>\n",
       "      <td>1259.766667</td>\n",
       "    </tr>\n",
       "  </tbody>\n",
       "</table>\n",
       "</div>"
      ],
      "text/plain": [
       "  dropoff_location_name  average_trips\n",
       "0                  Loop   10727.466667\n",
       "1           River North    9523.666667\n",
       "2         Streeterville    6664.666667\n",
       "3             West Loop    5163.666667\n",
       "4                O'Hare    2546.900000\n",
       "5             Lake View    2420.966667\n",
       "6            Grant Park    2068.533333\n",
       "7         Museum Campus    1510.000000\n",
       "8            Gold Coast    1364.233333\n",
       "9    Sheffield & DePaul    1259.766667"
      ]
     },
     "execution_count": 8,
     "metadata": {},
     "output_type": "execute_result"
    }
   ],
   "source": [
    "df_completed_trips.head(10)"
   ]
  },
  {
   "cell_type": "markdown",
   "metadata": {},
   "source": [
    "[Volver a Contenidos](#back)"
   ]
  },
  {
   "cell_type": "markdown",
   "metadata": {},
   "source": [
    "**Gráfica de los 10 barrios principales por número de finalizaciones** <a id=\"img_top_neighborhoods\"></a>"
   ]
  },
  {
   "cell_type": "code",
   "execution_count": 9,
   "metadata": {},
   "outputs": [
    {
     "data": {
      "image/png": "[encoded data removed]",
      "text/plain": [
       "<Figure size 600x600 with 1 Axes>"
      ]
     },
     "metadata": {},
     "output_type": "display_data"
    }
   ],
   "source": [
    "plt.figure(figsize=(6,6))\n",
    "\n",
    "sns.barplot(data=df_completed_trips.head(10), \n",
    "    x='dropoff_location_name', y='average_trips', hue='dropoff_location_name', \n",
    "    palette='viridis', legend=False)\n",
    "\n",
    "plt.title('Top 10 Neighborhoods by Number of Trip Completions')\n",
    "plt.xlabel('Neightborhood')\n",
    "plt.ylabel('Average Trips Completed')\n",
    "plt.xticks(rotation=45, ha='right')\n",
    "\n",
    "plt.show()"
   ]
  },
  {
   "cell_type": "markdown",
   "metadata": {},
   "source": [
    "**Interpretación**\n",
    "- **Loop:** Este barrio lidera con más de 10 000 viajes completados, lo que indica que es un centro de actividad significativo, posiblemente debido a la presencia de negocios, atracciones turísticas o una densidad de población alta.\n",
    "- **River North y Streeterville:** Siguen al Loop con menos viajes completados, pero aún así representan una cantidad considerable. Esto podría reflejar áreas con buena demanda de servicios de taxi debido a la vida nocturna, hoteles o eventos.\n",
    "- **Gold Coast y Sheffield & DePaul:** Estos barrios, aunque están entre los 10 principales, tienen el menor número de viajes completados, lo que podría indicar una menor demanda o competencia con otros modos de transporte."
   ]
  },
  {
   "cell_type": "markdown",
   "metadata": {},
   "source": [
    "[Volver a Contenidos](#back)"
   ]
  },
  {
   "cell_type": "markdown",
   "metadata": {},
   "source": [
    "**Gráfica de las empresas de taxis y número de viajes** <a id=\"top_taxis\"></a>"
   ]
  },
  {
   "cell_type": "code",
   "execution_count": 10,
   "metadata": {},
   "outputs": [
    {
     "data": {
      "image/png": "[encoded data removed]",
      "text/plain": [
       "<Figure size 600x800 with 1 Axes>"
      ]
     },
     "metadata": {},
     "output_type": "display_data"
    }
   ],
   "source": [
    "plt.figure(figsize=(6,8))\n",
    "\n",
    "sns.barplot(data=df_taxi_rides.head(10), x='company_name', y='trips_amount', hue='company_name', palette='viridis', legend=False)\n",
    "\n",
    "plt.title('Number of trips per taxi company')\n",
    "plt.xlabel('Taxi company')\n",
    "plt.ylabel('Number of trips')\n",
    "plt.xticks(rotation=45, ha='right')\n",
    "\n",
    "plt.tight_layout()\n",
    "\n",
    "plt.show()"
   ]
  },
  {
   "cell_type": "markdown",
   "metadata": {},
   "source": [
    "**Interpretación**\n",
    "- **Flash Cab:** Lidera con la mayor cantidad de viajes, lo que podría indicar una fuerte preferencia de los pasajeros o una mayor disponibilidad de vehículos. Es importante considerar si Flash Cab tiene una estrategia de marketing más efectiva o una mejor cobertura de servicio en Chicago.\n",
    "- **Taxi Affiliation Services Yellow Cab y Medallion Leasing:** Siguen a Flash Cab en número de viajes. Sería útil analizar si ofrecen servicios especiales o tarifas competitivas que atraigan a los pasajeros.\n"
   ]
  },
  {
   "cell_type": "markdown",
   "metadata": {},
   "source": [
    "[Volver a Contenidos](#back)"
   ]
  },
  {
   "cell_type": "markdown",
   "metadata": {},
   "source": [
    "\n",
    "<h2 align=\"center\">Prueba de hipótesis (Python)</h5> <a id=\"hypothesis\"></a>"
   ]
  },
  {
   "cell_type": "code",
   "execution_count": 11,
   "metadata": {},
   "outputs": [],
   "source": [
    "# Acceso a los registros del recurso \"loop trips to the airport\"\n",
    "\n",
    "df_loop_trips_to_airport = pd.read_csv('./datasets/loop_trips_to_airport.csv')"
   ]
  },
  {
   "cell_type": "code",
   "execution_count": 12,
   "metadata": {},
   "outputs": [
    {
     "name": "stdout",
     "output_type": "stream",
     "text": [
      "\u001b[1m Muestra aleatoria de filas del DataFrame 'loop trips to the airport':\n"
     ]
    },
    {
     "data": {
      "text/html": [
       "<div>\n",
       "<style scoped>\n",
       "    .dataframe tbody tr th:only-of-type {\n",
       "        vertical-align: middle;\n",
       "    }\n",
       "\n",
       "    .dataframe tbody tr th {\n",
       "        vertical-align: top;\n",
       "    }\n",
       "\n",
       "    .dataframe thead th {\n",
       "        text-align: right;\n",
       "    }\n",
       "</style>\n",
       "<table border=\"1\" class=\"dataframe\">\n",
       "  <thead>\n",
       "    <tr style=\"text-align: right;\">\n",
       "      <th></th>\n",
       "      <th>start_ts</th>\n",
       "      <th>weather_conditions</th>\n",
       "      <th>duration_seconds</th>\n",
       "    </tr>\n",
       "  </thead>\n",
       "  <tbody>\n",
       "    <tr>\n",
       "      <th>432</th>\n",
       "      <td>2017-11-11 07:00:00</td>\n",
       "      <td>Good</td>\n",
       "      <td>1419.0</td>\n",
       "    </tr>\n",
       "    <tr>\n",
       "      <th>467</th>\n",
       "      <td>2017-11-25 07:00:00</td>\n",
       "      <td>Good</td>\n",
       "      <td>1409.0</td>\n",
       "    </tr>\n",
       "    <tr>\n",
       "      <th>558</th>\n",
       "      <td>2017-11-04 06:00:00</td>\n",
       "      <td>Good</td>\n",
       "      <td>1351.0</td>\n",
       "    </tr>\n",
       "    <tr>\n",
       "      <th>487</th>\n",
       "      <td>2017-11-18 10:00:00</td>\n",
       "      <td>Bad</td>\n",
       "      <td>1680.0</td>\n",
       "    </tr>\n",
       "    <tr>\n",
       "      <th>701</th>\n",
       "      <td>2017-11-11 14:00:00</td>\n",
       "      <td>Good</td>\n",
       "      <td>2460.0</td>\n",
       "    </tr>\n",
       "    <tr>\n",
       "      <th>539</th>\n",
       "      <td>2017-11-04 12:00:00</td>\n",
       "      <td>Good</td>\n",
       "      <td>2700.0</td>\n",
       "    </tr>\n",
       "    <tr>\n",
       "      <th>662</th>\n",
       "      <td>2017-11-11 12:00:00</td>\n",
       "      <td>Good</td>\n",
       "      <td>1933.0</td>\n",
       "    </tr>\n",
       "    <tr>\n",
       "      <th>922</th>\n",
       "      <td>2017-11-18 08:00:00</td>\n",
       "      <td>Bad</td>\n",
       "      <td>1495.0</td>\n",
       "    </tr>\n",
       "    <tr>\n",
       "      <th>191</th>\n",
       "      <td>2017-11-04 12:00:00</td>\n",
       "      <td>Good</td>\n",
       "      <td>2160.0</td>\n",
       "    </tr>\n",
       "    <tr>\n",
       "      <th>47</th>\n",
       "      <td>2017-11-18 06:00:00</td>\n",
       "      <td>Good</td>\n",
       "      <td>1742.0</td>\n",
       "    </tr>\n",
       "    <tr>\n",
       "      <th>282</th>\n",
       "      <td>2017-11-11 10:00:00</td>\n",
       "      <td>Good</td>\n",
       "      <td>1872.0</td>\n",
       "    </tr>\n",
       "    <tr>\n",
       "      <th>952</th>\n",
       "      <td>2017-11-25 05:00:00</td>\n",
       "      <td>Good</td>\n",
       "      <td>1440.0</td>\n",
       "    </tr>\n",
       "    <tr>\n",
       "      <th>924</th>\n",
       "      <td>2017-11-18 18:00:00</td>\n",
       "      <td>Good</td>\n",
       "      <td>1800.0</td>\n",
       "    </tr>\n",
       "    <tr>\n",
       "      <th>612</th>\n",
       "      <td>2017-11-11 08:00:00</td>\n",
       "      <td>Good</td>\n",
       "      <td>1320.0</td>\n",
       "    </tr>\n",
       "    <tr>\n",
       "      <th>918</th>\n",
       "      <td>2017-11-04 16:00:00</td>\n",
       "      <td>Bad</td>\n",
       "      <td>3420.0</td>\n",
       "    </tr>\n",
       "  </tbody>\n",
       "</table>\n",
       "</div>"
      ],
      "text/plain": [
       "                start_ts weather_conditions  duration_seconds\n",
       "432  2017-11-11 07:00:00               Good            1419.0\n",
       "467  2017-11-25 07:00:00               Good            1409.0\n",
       "558  2017-11-04 06:00:00               Good            1351.0\n",
       "487  2017-11-18 10:00:00                Bad            1680.0\n",
       "701  2017-11-11 14:00:00               Good            2460.0\n",
       "539  2017-11-04 12:00:00               Good            2700.0\n",
       "662  2017-11-11 12:00:00               Good            1933.0\n",
       "922  2017-11-18 08:00:00                Bad            1495.0\n",
       "191  2017-11-04 12:00:00               Good            2160.0\n",
       "47   2017-11-18 06:00:00               Good            1742.0\n",
       "282  2017-11-11 10:00:00               Good            1872.0\n",
       "952  2017-11-25 05:00:00               Good            1440.0\n",
       "924  2017-11-18 18:00:00               Good            1800.0\n",
       "612  2017-11-11 08:00:00               Good            1320.0\n",
       "918  2017-11-04 16:00:00                Bad            3420.0"
      ]
     },
     "metadata": {},
     "output_type": "display_data"
    },
    {
     "name": "stdout",
     "output_type": "stream",
     "text": [
      "\u001b[1m Resumen del DataFrame 'loop trips to the airport':\u001b[0m \n",
      "\n",
      "<class 'pandas.core.frame.DataFrame'>\n",
      "RangeIndex: 1068 entries, 0 to 1067\n",
      "Data columns (total 3 columns):\n",
      " #   Column              Non-Null Count  Dtype  \n",
      "---  ------              --------------  -----  \n",
      " 0   start_ts            1068 non-null   object \n",
      " 1   weather_conditions  1068 non-null   object \n",
      " 2   duration_seconds    1068 non-null   float64\n",
      "dtypes: float64(1), object(2)\n",
      "memory usage: 25.2+ KB\n"
     ]
    }
   ],
   "source": [
    "# Obtener información general sobre los registros del DataFrame \"loop trips to the airport\"\n",
    "\n",
    "print(\"\\033[1m Muestra aleatoria de filas del DataFrame 'loop trips to the airport':\")\n",
    "\n",
    "display(df_loop_trips_to_airport.sample(15, random_state=1425))\n",
    "\n",
    "print(\"\\033[1m Resumen del DataFrame 'loop trips to the airport':\\033[0m \\n\")\n",
    "\n",
    "df_loop_trips_to_airport.info()"
   ]
  },
  {
   "cell_type": "markdown",
   "metadata": {},
   "source": [
    "**Prueba de Hipótesis:** \n",
    "\n",
    "Se pretende investigar si hay un cambio en la duración promedio de los viajes desde el Loop hasta el Aeropuerto Internacional O'Hare durante los sábados lluviosos.\n",
    "\n",
    "- *Hipótesis Nula (H0):* La duración promedio de los viajes desde el Loop hasta el Aeropuerto Internacional O'Hare permanece constante los sábados lluviosos.\n",
    "\n",
    "- *Hipótesis Alternativa (H1):*  La duración promedio de los viajes desde el Loop hasta el Aeropuerto Internacional O'Hare varía en los sábados lluviosos.\n",
    "\n",
    "- *Estadístico de prueba:* Se empleará una prueba t de dos muestras para evaluar si hay una diferencia significativa entre la duración promedio de los viajes durante los sábados con y sin lluvia.\n",
    "\n",
    "- *Valor Alfa (α):* Se establece un valor de 0.05 para la significancia estadística."
   ]
  },
  {
   "cell_type": "code",
   "execution_count": 13,
   "metadata": {},
   "outputs": [
    {
     "name": "stdout",
     "output_type": "stream",
     "text": [
      "Número de datos en var_saturday_without_rain= 888\n",
      "Número de datos en saturday_with_rain= 180\n",
      "---------------------------------------------------\n",
      "Varianza de saturday_without_rain= 576382.0096895089\n",
      "Varianza de saturday_with_rain= 520294.08600248274\n",
      "---------------------------------------------------\n",
      "La varianza de los sábados sin lluvia es mayor que la varianza de los sábados con lluvia.\n"
     ]
    }
   ],
   "source": [
    "# Segmentar datos según las condiciones climáticas\n",
    "saturday_without_rain = df_loop_trips_to_airport[df_loop_trips_to_airport['weather_conditions']=='Good']['duration_seconds']\n",
    "saturday_with_rain = df_loop_trips_to_airport[df_loop_trips_to_airport['weather_conditions']!='Good']['duration_seconds']\n",
    "\n",
    "# Conteo de datos de los grupos segmentados\n",
    "print('Número de datos en var_saturday_without_rain=', len(saturday_without_rain))\n",
    "print('Número de datos en saturday_with_rain=', len(saturday_with_rain))\n",
    "print('---------------------------------------------------')\n",
    "\n",
    "# Estudio de igualdad de varianzas\n",
    "var_saturday_without_rain = saturday_without_rain.var()\n",
    "var_saturday_with_rain = saturday_with_rain.var()\n",
    "\n",
    "print('Varianza de saturday_without_rain=', var_saturday_without_rain)\n",
    "print('Varianza de saturday_with_rain=', var_saturday_with_rain)\n",
    "print('---------------------------------------------------')\n",
    "\n",
    "if var_saturday_without_rain > var_saturday_with_rain:\n",
    "    print(\"La varianza de los sábados sin lluvia es mayor que la varianza de los sábados con lluvia.\")\n",
    "elif var_saturday_without_rain < var_saturday_with_rain:\n",
    "    print(\"La varianza de los sábados con lluvia es mayor que la varianza de los sábados sin lluvia.\")\n",
    "else:\n",
    "    print(\"Las varianzas de los dos grupos son aproximadamente iguales.\")\n"
   ]
  },
  {
   "cell_type": "markdown",
   "metadata": {},
   "source": [
    "**Prueba de Hipótesis:** \n",
    "\n",
    "**Estadístico de prueba:** Se empleará una prueba t de Welch para evaluar si existe una diferencia significativa entre la duración promedio de los viajes durante los sábados con y sin lluvia. La elección de esta prueba se debe a la diferencia significativa en las varianzas de los dos grupos. La prueba t de Welch es una versión modificada de la prueba t de Student que no asume igualdad de varianzas entre los grupos, lo que la hace más apropiada en este contexto."
   ]
  },
  {
   "cell_type": "code",
   "execution_count": 14,
   "metadata": {},
   "outputs": [
    {
     "name": "stdout",
     "output_type": "stream",
     "text": [
      "Valor p: 6.738994326108734e-12\n",
      "Rechazamos la hipótesis nula: La duración promedio de los viajes desde el Loop hasta el Aeropuerto Internacional O'Hare varía en los sábados lluviosos.\n"
     ]
    }
   ],
   "source": [
    "alpha = 0.05\n",
    "\n",
    "results, p_value = st.ttest_ind(saturday_without_rain, saturday_with_rain, equal_var=False)\n",
    "\n",
    "print('Valor p:', p_value)\n",
    "\n",
    "if p_value < alpha:\n",
    "    print('Rechazamos la hipótesis nula: La duración promedio de los viajes desde el Loop hasta el Aeropuerto Internacional O\\'Hare varía en los sábados lluviosos.')\n",
    "else:\n",
    "    print('No podemos rechazar la hipótesis nula: La duración promedio de los viajes desde el Loop hasta el Aeropuerto Internacional O\\'Hare permanece constante los sábados lluviosos.')\n"
   ]
  },
  {
   "cell_type": "markdown",
   "metadata": {},
   "source": [
    "**Análisis:** Los resultados de la prueba de hipótesis sobre la diferencia en la duración promedio de los viajes desde el Loop hasta el Aeropuerto Internacional O'Hare, utilizando el estadístico T de Student, arrojaron un valor p de 6.73e-12. Este valor es menor que el nivel de significancia de 0.05, lo que indica que podemos rechazar la hipótesis nula. Por lo tanto, hay evidencia suficiente para concluir que existe una diferencia significativa en la duración promedio de los viajes desde el Loop hasta el Aeropuerto Internacional O'Hare.\n",
    "\n",
    "Es evidente que las condiciones climáticas adversas, particularmente la lluvia, influyen de manera notable en la duración de los viajes desde el Loop hasta el Aeropuerto Internacional O'Hare. Es probable que la congestión del tráfico y otros factores relacionados con las condiciones climáticas incidan en este cambio en la duración promedio de los viajes."
   ]
  },
  {
   "cell_type": "markdown",
   "metadata": {},
   "source": [
    "[Volver a Contenidos](#back)"
   ]
  },
  {
   "cell_type": "markdown",
   "metadata": {},
   "source": [
    "## Conclusión <a id='end'></a>\n",
    "\n",
    "El análisis exploratorio de datos realizado sobre los viajes de Zuber en Chicago ha proporcionado información valiosa sobre las dinámicas de la ciudad y el comportamiento de los pasajeros. Los resultados indican que el barrio del Loop es un centro neurálgico de actividad, liderando en número de finalizaciones de viajes, seguido por otros barrios clave como River North y Streeterville, que también muestran una alta demanda de servicios de taxi. La menor cantidad de viajes completados en barrios como Gold Coast y Sheffield & DePaul sugiere que en estas zonas podría haber una menor demanda o que los pasajeros optan por otros modos de transporte.\n",
    "\n",
    "En cuanto a las empresas de taxis, Flash Cab destaca como la preferida por los pasajeros, lo que podría deberse a una mayor disponibilidad de vehículos o una estrategia de marketing más efectiva. Taxi Affiliation Services Yellow Cab y Medallion Leasing, aunque también tienen una presencia significativa, podrían beneficiarse de un análisis más profundo para identificar posibles mejoras en sus servicios o estrategias de mercado.\n",
    "\n",
    "Finalmente, la prueba de hipótesis sobre la influencia de las condiciones climáticas en la duración de los viajes desde el Loop hasta el Aeropuerto Internacional O'Hare ha demostrado que la lluvia impacta significativamente en la duración de estos trayectos. Esto subraya la importancia de considerar factores externos como el clima al planificar y gestionar operaciones de transporte.\n",
    "\n",
    "En conjunto, este análisis proporciona una base sólida para tomar decisiones estratégicas en Zuber, orientadas a optimizar el servicio en áreas de alta demanda y ajustar la operación en función de las condiciones climáticas para mejorar la experiencia del cliente."
   ]
  },
  {
   "cell_type": "markdown",
   "metadata": {},
   "source": [
    "[Volver a Contenidos](#back)"
   ]
  }
 ],
 "metadata": {
  "kernelspec": {
   "display_name": "Python 3 (ipykernel)",
   "language": "python",
   "name": "python3"
  },
  "language_info": {
   "codemirror_mode": {
    "name": "ipython",
    "version": 3
   },
   "file_extension": ".py",
   "mimetype": "text/x-python",
   "name": "python",
   "nbconvert_exporter": "python",
   "pygments_lexer": "ipython3",
   "version": "3.12.0"
  }
 },
 "nbformat": 4,
 "nbformat_minor": 4
}
